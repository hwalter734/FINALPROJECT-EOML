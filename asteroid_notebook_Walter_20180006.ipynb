{
 "cells": [
  {
   "cell_type": "markdown",
   "metadata": {},
   "source": [
    "# Cargamos las librerías iniciales"
   ]
  },
  {
   "cell_type": "code",
   "execution_count": 1,
   "metadata": {},
   "outputs": [],
   "source": [
    "import pandas as pd\n",
    "import matplotlib.pyplot as plt \n",
    "import seaborn as sns\n",
    "import numpy as np\n",
    "\n",
    "%matplotlib inline"
   ]
  },
  {
   "cell_type": "markdown",
   "metadata": {},
   "source": [
    "# Descripción de Columnas\n",
    "Las columnas del dataset describen aspectos físicos del asteroide como también de su orbita con respecto a la Tierra. Todas las características de órbita son con respecto a la Tierra.\n",
    "\n",
    "* Semi-Major Axis (a): Se refiere a la mitad del diametro más largo de la elipse\n",
    "* Eccentricity (e): Se refiere a la cantidad en la que la orbita del asteroide se desvía de la forma de un círculo\n",
    "* Inclination with respect to x-y ecliptic plane (deg): \"Although all the planets and asteroids follow elliptical orbits around the Sun (obeying Kepler’s First Law), these orbits do not all lie in the same plane – they are usually tilted with respect to each other. As Earth-bound humans, we have adopted the plane in which the Earth moves around the Sun (the ecliptic) as our reference plane for the Solar System. With this convention, the Earth has an orbital inclination of zero degrees, and the orbital inclinations of other Solar System bodies are measured relative to this (for example, Mars has an orbital inclination of 1.85o, Mercury: 7.00o and Pluto: 17.15o).\" Tomado de https://astronomy.swin.edu.au/cosmos/O/orbital+inclination. En nuestro caso sería una referencia relativa al asteroide.\n",
    "* Longitude of the Ascending Node (om): \"The point where the orbit passes through the reference plane in an “upward” direction is called the ascending node. Thus, the second orientation angle of the orbit is the angle between the ascending node and some reference direction in the reference plane, as seen from the Sun. In our solar system, the reference direction is usually taken to be the direction toward the vernal equinox. This angle is known as the longitude of the ascending node, Ω.\" Tomado de: https://www.sciencedirect.com/topics/physics-and-astronomy/longitude-of-the-ascending-node\n",
    "* Argument of Perihelion (w): Es la distancia angular del ascending node hasta la el perhilion medido en el plano orbital.\n",
    "* Periphelion Distance (q): Es la distancia de la orbita del asteroide en la cual se encuentra lo más cercano al sol.\n",
    "* Aphelion Distance (ad): Es la distancia de la orbita del asteroide en la cual se encuentra lo más alejada del sol.\n",
    "* Orbital Period in Years (per_y): Se refiere al tiempo en que se tarda el asteroide en completar su orbita alrededor de la Tierra en años.\n",
    "* Data Arc-Span (data_arc): Sin descripción\n",
    "* Orbit Condition Code (condition_code): Se refiere a un parámetro de incertidumbre sobre la órbita del asteroide\n",
    "* Number of observation used (n_obs_used): Número de observaciones que se le hicieron al asteroide para establecer las demás características.\n",
    "* Absolute Magnitude Parameter (H): Se refiere a la magnitud en la cual una estrella aparecería estar si se situara a 10 parsecs de un asteroide (1 parsec = 30 trillones de km aprox = 3 años luz)\n",
    "* Near Earth Object (neo): Es un objeto celestial que pasa relativamente cerca a la órbita de la Tierra\n",
    "* Physically Hazardous Asteroid (pha) VARIABLE OBJETIVO: Es un asteroide que hace trayectos cercanos a la órbita de la Tierra y tiene el tamaño suficiente como para poder causar daños severos en caso de impacto con nuestro planeta.\n",
    "* Diameter of Asteroid in km (diameter): Diámetro del asteroide en kilómetros\n",
    "* Object bi/tri axial ellipsoid dimensions km (extent): Sin descripción\n",
    "* Geometric Albedo (albedo): \"...the ratio of its total brightness at zero phase angle to that of an idealised fully reflecting, diffusively scattering (Lambertian) disk with the same cross-section.\" Tomado de https://space.fandom.com/wiki/Geometric_albedo\n",
    "* Rotation Period in hours (rot_per): Tiempo en horas que le tarda al asteroide hacer una revolución en su propio eje.\n",
    "* Standard Gravitational Parameter (GM): Producto de la masa y la constante gravitacional\n",
    "* Color Index B-V magnitude difference (BV): Se refiere a una escala de medición de temperatura del cuerpo celestial. Números más pequeños indican que es caliente, mientras que números más grandes indican que es más caliente.\n",
    "* Color Index U-B magnitude difference (UB): Se refiere a una escala de medición de temperatura del cuerpo celestial. Números más pequeños indican que es caliente, mientras que números más grandes indican que es más caliente.\n",
    "* Color Index I-R magnitude difference (IR): Se refiere a una escala de medición de temperatura del cuerpo celestial. Números más pequeños indican que es caliente, mientras que números más grandes indican que es más caliente.\n",
    "* Spectral Taxonomic type SMASSII (spec_B): Una clasificación dada al color que emite el asteroide\n",
    "* Spectral Taxonomic type Tholen (spec_T): Una clasificación dada al color que emite el asteroide\n",
    "* Magnitude Slope Parameter (G): No hay descripción\n",
    "* Earth Minimum Orbit Intersection Distance au (moid): \"The minimum orbital intersection distance (MOID) is used as a measure to assess potential close approaches and collision risks between astronomical objects\" Tomado de https://www.aanda.org/articles/aa/full_html/2020/01/aa36502-19/aa36502-19.html\n",
    "* Asteroid Orbit Class (class): MBA se refiere a Main Belt Asteroid, son asteroides que se encuentran en el anillo de asteroides que se encuentra entre Marte y Júpiter. OMB se refiere a Outer Main Belt Asteroid, son asteroides que se encuentran en el anillo de asteroides que se encuentran hasta Neptuno. Existen varias diferentes clasificaciones.\n",
    "* Mean motion deg/d (n): No hay descripción\n",
    "* Orbital Period d (per): Días que se tarda el asteroide en completar su orbita alrededor de la Tierra\n",
    "* Mean Anomaly deg (ma): \"The mean anomaly is the angle between lines drawn from the Sun to the perihelion B and to a point (not shown) moving in the orbit at a uniform rate corresponding to the period of revolution of the planet.\" Tomado de https://www.britannica.com/science/anomaly-astronomy#ref105659"
   ]
  },
  {
   "cell_type": "code",
   "execution_count": 2,
   "metadata": {},
   "outputs": [
    {
     "name": "stderr",
     "output_type": "stream",
     "text": [
      "c:\\users\\hansr\\appdata\\local\\programs\\python\\python38\\lib\\site-packages\\IPython\\core\\interactiveshell.py:3146: DtypeWarning: Columns (0,10,15,16,23,24) have mixed types.Specify dtype option on import or set low_memory=False.\n",
      "  has_raised = await self.run_ast_nodes(code_ast.body, cell_name,\n"
     ]
    },
    {
     "data": {
      "text/html": [
       "<div>\n",
       "<style scoped>\n",
       "    .dataframe tbody tr th:only-of-type {\n",
       "        vertical-align: middle;\n",
       "    }\n",
       "\n",
       "    .dataframe tbody tr th {\n",
       "        vertical-align: top;\n",
       "    }\n",
       "\n",
       "    .dataframe thead th {\n",
       "        text-align: right;\n",
       "    }\n",
       "</style>\n",
       "<table border=\"1\" class=\"dataframe\">\n",
       "  <thead>\n",
       "    <tr style=\"text-align: right;\">\n",
       "      <th></th>\n",
       "      <th>name</th>\n",
       "      <th>a</th>\n",
       "      <th>e</th>\n",
       "      <th>i</th>\n",
       "      <th>om</th>\n",
       "      <th>w</th>\n",
       "      <th>q</th>\n",
       "      <th>ad</th>\n",
       "      <th>per_y</th>\n",
       "      <th>data_arc</th>\n",
       "      <th>...</th>\n",
       "      <th>UB</th>\n",
       "      <th>IR</th>\n",
       "      <th>spec_B</th>\n",
       "      <th>spec_T</th>\n",
       "      <th>G</th>\n",
       "      <th>moid</th>\n",
       "      <th>class</th>\n",
       "      <th>n</th>\n",
       "      <th>per</th>\n",
       "      <th>ma</th>\n",
       "    </tr>\n",
       "  </thead>\n",
       "  <tbody>\n",
       "    <tr>\n",
       "      <th>0</th>\n",
       "      <td>Ceres</td>\n",
       "      <td>2.769165</td>\n",
       "      <td>0.076009</td>\n",
       "      <td>10.594067</td>\n",
       "      <td>80.305532</td>\n",
       "      <td>73.597694</td>\n",
       "      <td>2.558684</td>\n",
       "      <td>2.979647</td>\n",
       "      <td>4.608202</td>\n",
       "      <td>8822.0</td>\n",
       "      <td>...</td>\n",
       "      <td>0.426</td>\n",
       "      <td>NaN</td>\n",
       "      <td>C</td>\n",
       "      <td>G</td>\n",
       "      <td>0.12</td>\n",
       "      <td>1.59478</td>\n",
       "      <td>MBA</td>\n",
       "      <td>0.213885</td>\n",
       "      <td>1683.145708</td>\n",
       "      <td>77.372096</td>\n",
       "    </tr>\n",
       "    <tr>\n",
       "      <th>1</th>\n",
       "      <td>Pallas</td>\n",
       "      <td>2.772466</td>\n",
       "      <td>0.230337</td>\n",
       "      <td>34.836234</td>\n",
       "      <td>173.080063</td>\n",
       "      <td>310.048857</td>\n",
       "      <td>2.133865</td>\n",
       "      <td>3.411067</td>\n",
       "      <td>4.616444</td>\n",
       "      <td>72318.0</td>\n",
       "      <td>...</td>\n",
       "      <td>0.284</td>\n",
       "      <td>NaN</td>\n",
       "      <td>B</td>\n",
       "      <td>B</td>\n",
       "      <td>0.11</td>\n",
       "      <td>1.23324</td>\n",
       "      <td>MBA</td>\n",
       "      <td>0.213503</td>\n",
       "      <td>1686.155999</td>\n",
       "      <td>59.699133</td>\n",
       "    </tr>\n",
       "    <tr>\n",
       "      <th>2</th>\n",
       "      <td>Juno</td>\n",
       "      <td>2.669150</td>\n",
       "      <td>0.256942</td>\n",
       "      <td>12.988919</td>\n",
       "      <td>169.852760</td>\n",
       "      <td>248.138626</td>\n",
       "      <td>1.983332</td>\n",
       "      <td>3.354967</td>\n",
       "      <td>4.360814</td>\n",
       "      <td>72684.0</td>\n",
       "      <td>...</td>\n",
       "      <td>0.433</td>\n",
       "      <td>NaN</td>\n",
       "      <td>Sk</td>\n",
       "      <td>S</td>\n",
       "      <td>0.32</td>\n",
       "      <td>1.03454</td>\n",
       "      <td>MBA</td>\n",
       "      <td>0.226019</td>\n",
       "      <td>1592.787285</td>\n",
       "      <td>34.925016</td>\n",
       "    </tr>\n",
       "    <tr>\n",
       "      <th>3</th>\n",
       "      <td>Vesta</td>\n",
       "      <td>2.361418</td>\n",
       "      <td>0.088721</td>\n",
       "      <td>7.141771</td>\n",
       "      <td>103.810804</td>\n",
       "      <td>150.728541</td>\n",
       "      <td>2.151909</td>\n",
       "      <td>2.570926</td>\n",
       "      <td>3.628837</td>\n",
       "      <td>24288.0</td>\n",
       "      <td>...</td>\n",
       "      <td>0.492</td>\n",
       "      <td>NaN</td>\n",
       "      <td>V</td>\n",
       "      <td>V</td>\n",
       "      <td>0.32</td>\n",
       "      <td>1.13948</td>\n",
       "      <td>MBA</td>\n",
       "      <td>0.271609</td>\n",
       "      <td>1325.432765</td>\n",
       "      <td>95.861936</td>\n",
       "    </tr>\n",
       "    <tr>\n",
       "      <th>4</th>\n",
       "      <td>Astraea</td>\n",
       "      <td>2.574249</td>\n",
       "      <td>0.191095</td>\n",
       "      <td>5.366988</td>\n",
       "      <td>141.576605</td>\n",
       "      <td>358.687607</td>\n",
       "      <td>2.082324</td>\n",
       "      <td>3.066174</td>\n",
       "      <td>4.130323</td>\n",
       "      <td>63507.0</td>\n",
       "      <td>...</td>\n",
       "      <td>0.411</td>\n",
       "      <td>NaN</td>\n",
       "      <td>S</td>\n",
       "      <td>S</td>\n",
       "      <td>NaN</td>\n",
       "      <td>1.09589</td>\n",
       "      <td>MBA</td>\n",
       "      <td>0.238632</td>\n",
       "      <td>1508.600458</td>\n",
       "      <td>282.366289</td>\n",
       "    </tr>\n",
       "  </tbody>\n",
       "</table>\n",
       "<p>5 rows × 31 columns</p>\n",
       "</div>"
      ],
      "text/plain": [
       "      name         a         e          i          om           w         q  \\\n",
       "0    Ceres  2.769165  0.076009  10.594067   80.305532   73.597694  2.558684   \n",
       "1   Pallas  2.772466  0.230337  34.836234  173.080063  310.048857  2.133865   \n",
       "2     Juno  2.669150  0.256942  12.988919  169.852760  248.138626  1.983332   \n",
       "3    Vesta  2.361418  0.088721   7.141771  103.810804  150.728541  2.151909   \n",
       "4  Astraea  2.574249  0.191095   5.366988  141.576605  358.687607  2.082324   \n",
       "\n",
       "         ad     per_y  data_arc  ...     UB  IR  spec_B spec_T     G     moid  \\\n",
       "0  2.979647  4.608202    8822.0  ...  0.426 NaN       C      G  0.12  1.59478   \n",
       "1  3.411067  4.616444   72318.0  ...  0.284 NaN       B      B  0.11  1.23324   \n",
       "2  3.354967  4.360814   72684.0  ...  0.433 NaN      Sk      S  0.32  1.03454   \n",
       "3  2.570926  3.628837   24288.0  ...  0.492 NaN       V      V  0.32  1.13948   \n",
       "4  3.066174  4.130323   63507.0  ...  0.411 NaN       S      S   NaN  1.09589   \n",
       "\n",
       "  class         n          per          ma  \n",
       "0   MBA  0.213885  1683.145708   77.372096  \n",
       "1   MBA  0.213503  1686.155999   59.699133  \n",
       "2   MBA  0.226019  1592.787285   34.925016  \n",
       "3   MBA  0.271609  1325.432765   95.861936  \n",
       "4   MBA  0.238632  1508.600458  282.366289  \n",
       "\n",
       "[5 rows x 31 columns]"
      ]
     },
     "execution_count": 2,
     "metadata": {},
     "output_type": "execute_result"
    }
   ],
   "source": [
    "df = pd.read_csv('Asteroid_Updated.csv')\n",
    "df.head()"
   ]
  },
  {
   "cell_type": "code",
   "execution_count": 3,
   "metadata": {},
   "outputs": [
    {
     "data": {
      "text/plain": [
       "(839714, 31)"
      ]
     },
     "execution_count": 3,
     "metadata": {},
     "output_type": "execute_result"
    }
   ],
   "source": [
    "df.shape"
   ]
  },
  {
   "cell_type": "code",
   "execution_count": 4,
   "metadata": {},
   "outputs": [
    {
     "data": {
      "text/plain": [
       "name               object\n",
       "a                 float64\n",
       "e                 float64\n",
       "i                 float64\n",
       "om                float64\n",
       "w                 float64\n",
       "q                 float64\n",
       "ad                float64\n",
       "per_y             float64\n",
       "data_arc          float64\n",
       "condition_code     object\n",
       "n_obs_used          int64\n",
       "H                 float64\n",
       "neo                object\n",
       "pha                object\n",
       "diameter           object\n",
       "extent             object\n",
       "albedo            float64\n",
       "rot_per           float64\n",
       "GM                float64\n",
       "BV                float64\n",
       "UB                float64\n",
       "IR                float64\n",
       "spec_B             object\n",
       "spec_T             object\n",
       "G                 float64\n",
       "moid              float64\n",
       "class              object\n",
       "n                 float64\n",
       "per               float64\n",
       "ma                float64\n",
       "dtype: object"
      ]
     },
     "execution_count": 4,
     "metadata": {},
     "output_type": "execute_result"
    }
   ],
   "source": [
    "df.dtypes"
   ]
  },
  {
   "cell_type": "markdown",
   "metadata": {},
   "source": [
    "Diameter debe ser una columna númerica por lo que haremos el cambio de data type correspondiente. No está incluído el error que salió previo a la elaboración final del notebook pero ocurrió un error al tratar de convertir la columna a números ya que era de texto y en algunos campos tenían espacios. Por lo mismo, previo a convertirla númerica le quité todos los espacios en blanco de las observaciones para que la función logrará hacer la transformación."
   ]
  },
  {
   "cell_type": "code",
   "execution_count": 5,
   "metadata": {},
   "outputs": [],
   "source": [
    "df['diameter'] = df['diameter'].str.strip()\n",
    "df[\"diameter\"] = pd.to_numeric(df[\"diameter\"], downcast=\"float\")"
   ]
  },
  {
   "cell_type": "code",
   "execution_count": 6,
   "metadata": {},
   "outputs": [
    {
     "data": {
      "text/plain": [
       "(839714, 31)"
      ]
     },
     "execution_count": 6,
     "metadata": {},
     "output_type": "execute_result"
    }
   ],
   "source": [
    "df.shape"
   ]
  },
  {
   "cell_type": "code",
   "execution_count": 7,
   "metadata": {},
   "outputs": [
    {
     "data": {
      "text/plain": [
       "N    821257\n",
       "Y      2015\n",
       "Name: pha, dtype: int64"
      ]
     },
     "execution_count": 7,
     "metadata": {},
     "output_type": "execute_result"
    }
   ],
   "source": [
    "df['pha'].value_counts()"
   ]
  },
  {
   "cell_type": "markdown",
   "metadata": {},
   "source": [
    "# Explicación de distribución de variable objetivo PHA (Physically Hazardous Asteroid)\n",
    "Para tener un poco de contexto, actualmente el número de asteroides, meteoritos y cometas que se consideran peligrosos para la humanidad son un número bastante bajo. Existen innumerables objetos del mismo tipo en nuestro sistema solar. Residuos de colisiones de planetas dentro de nuestro sistema solar, como también de objetos fuera de nuestra vecindad local. Teniendo esto en cuenta, la NASA ha declarado públicamente que el número de objetos que son peligrosos para la Tierra son pocos. El asteroide más notorio actualmente es Apophis, tiene una longitud/diametro de 340 metros y se había sugerido que iba a tener una trayectoria sumamente cercana a la Tierra en el año 2029. Tras varios análisis descartaron la posibilidad y calcularon que en el año 2068 tiene una probabilidad mínima de poder impactar con la Tierra. Con esto en mente, se puede justificar el bajo número de asteroides considerados como potencialmente peligrosos. El tamaño seguramente dicta lo suficiente para considerarse peligroso, pero se debe de tomar en cuenta características de su trayectoria ya que incluso asteroides de a penas cientos de metros son capaces de poder destruir ciudades enteras si se encuentran en la trayectoria justa. El tamaño necesario para erradicar la vida en la Tierra se ha estimado que tiene que ser de aproximadamente 96 km."
   ]
  },
  {
   "cell_type": "markdown",
   "metadata": {},
   "source": [
    "### Quitamos la columna pha puesto a que vamos a utilizar nuestra propia variable objetivo, ya que sería redundante tener dos columnas que describan algo similar"
   ]
  },
  {
   "cell_type": "code",
   "execution_count": 8,
   "metadata": {},
   "outputs": [],
   "source": [
    "df.drop('pha', inplace=True, axis=1)"
   ]
  },
  {
   "cell_type": "markdown",
   "metadata": {},
   "source": [
    "# Redifinir la variable objetivo\n",
    "Si utilizamos a PHA como la variable objetivo, nuestro modelo seguramente va a hacer underperform drásticamente. Por lo mismo, vamos a cambiar nuestra clasificación a identificar todos los asteroides que tienen la capacidad de extinguir a la raza humana. El diametro necesario como para tener implicaciones globales es de 8km. No necesariamente destruiría físicamente toda la Tierra. Lo que ocurriría con este tipo de asteroide es que en el lugar de impacto obviamente dejaría todo devastado, pero por el impacto causaría cambios climáticos como también la difusión de gases tóxicos que se generaron por el impacto. Este tipo de químicos estando presentes en la atmósfera tienen la capacidad de extenderse a todo el mundo, y terminaría matando a todo ser vivo que estuviera en la superficie. Adicionalmente, también mataría la vida marina puesto a que al momento de llover, las nubes estarían desatando todos los químicos que se encontraran en el aire. Estaremos considerando todos los asteroides que superan los 8 km de diámetro como extinguidores, mientras que los que midan menos los consideraremos no catastróficos."
   ]
  },
  {
   "cell_type": "markdown",
   "metadata": {},
   "source": [
    "# Importancia de crear modelos\n",
    "Los modelos de machine learning tienen que ser capaces de poder predecir qué asteroides son potencialmente peligrosos para la Tierra. Estos modelos van a tener que trabajar con este tipo de data, donde la variable objetivo no va a tener una distribución adecuada y probablemente encuentren más asteroides que no son una amenaza para nosotros. Actualmente no contamos con los sistemas necesarios para actuar y responder a estas amenazas. Sin embargo, la NASA ya está en proceso de crear un sistema de respuesta en el caso un asteroide tenga alta probabilidad de impacto con la Tierra. Su método de respuesta involucra envíar una cápsula espacial considerablemente grande, para impactar el asteroide y tratar de desviar su trayectoria. El asteroide más peligroso no es el que se detecta, son todos los que no se logran detectar y tienen alta probabilidad de impactarnos."
   ]
  },
  {
   "cell_type": "markdown",
   "metadata": {},
   "source": [
    "# Análisis de NA's\n",
    "Podemos observar que existen varias columnas con NA's. No sería adecuado aplicar imputación ya que los NA's representan más del 50% de las observaciones. Si se aplicara imputación estaríamos cometiendo un error grave dado a que aunque utilizemos modelos de imputación, el algoritmo estaría prácticamente adivinando o teniendo predicciones poco precisas. La columna con mayor importancia es diámetro ya que es nuestra variable objetivo. No podemos tener NA's en la variable que estamos tratando de predecir. Vamos a poder usar solo el 3% total del dataset."
   ]
  },
  {
   "cell_type": "code",
   "execution_count": 9,
   "metadata": {},
   "outputs": [
    {
     "data": {
      "text/plain": [
       "name              97.383990\n",
       "a                  0.000238\n",
       "e                  0.000000\n",
       "i                  0.000000\n",
       "om                 0.000000\n",
       "w                  0.000000\n",
       "q                  0.000000\n",
       "ad                 0.000715\n",
       "per_y              0.000119\n",
       "data_arc           1.842770\n",
       "condition_code     0.103249\n",
       "n_obs_used         0.000000\n",
       "H                  0.320228\n",
       "neo                0.000715\n",
       "diameter          97.093772\n",
       "extent            99.997856\n",
       "albedo            83.755302\n",
       "rot_per           97.761619\n",
       "GM                99.998333\n",
       "BV                99.878411\n",
       "UB                99.883413\n",
       "IR                99.999881\n",
       "spec_B            99.801599\n",
       "spec_T            99.883294\n",
       "G                 99.985829\n",
       "moid               1.958048\n",
       "class              0.000000\n",
       "n                  0.000238\n",
       "per                0.000715\n",
       "ma                 0.000953\n",
       "dtype: float64"
      ]
     },
     "execution_count": 9,
     "metadata": {},
     "output_type": "execute_result"
    }
   ],
   "source": [
    "df.isnull().mean() * 100"
   ]
  },
  {
   "cell_type": "markdown",
   "metadata": {},
   "source": [
    "Necesitamos ponerle énfasis a la variable objetivo, por lo cual hacemos un filtro para obtener todos los registros que no contengan NA's en esa columna."
   ]
  },
  {
   "cell_type": "code",
   "execution_count": 10,
   "metadata": {},
   "outputs": [],
   "source": [
    "df2 = df[df['diameter'].notna()]"
   ]
  },
  {
   "cell_type": "markdown",
   "metadata": {},
   "source": [
    "Queremos eliminar las columnas que contengan más del 30% del total de datos de NA's"
   ]
  },
  {
   "cell_type": "code",
   "execution_count": 11,
   "metadata": {},
   "outputs": [],
   "source": [
    "df3 = df2.loc[:, df2.isin([' ','NULL',0, np.nan]).mean() < .30]"
   ]
  },
  {
   "cell_type": "code",
   "execution_count": 12,
   "metadata": {},
   "outputs": [
    {
     "data": {
      "text/plain": [
       "a              0\n",
       "e              0\n",
       "i              0\n",
       "om             0\n",
       "w              0\n",
       "q              0\n",
       "ad             0\n",
       "per_y          0\n",
       "data_arc       0\n",
       "n_obs_used     0\n",
       "H              0\n",
       "neo            0\n",
       "diameter       0\n",
       "albedo        18\n",
       "moid           0\n",
       "class          0\n",
       "n              0\n",
       "per            0\n",
       "ma             0\n",
       "dtype: int64"
      ]
     },
     "execution_count": 12,
     "metadata": {},
     "output_type": "execute_result"
    }
   ],
   "source": [
    "df3.isnull().sum()"
   ]
  },
  {
   "cell_type": "code",
   "execution_count": 13,
   "metadata": {},
   "outputs": [
    {
     "data": {
      "text/plain": [
       "(24404, 19)"
      ]
     },
     "execution_count": 13,
     "metadata": {},
     "output_type": "execute_result"
    }
   ],
   "source": [
    "df3.shape"
   ]
  },
  {
   "cell_type": "markdown",
   "metadata": {},
   "source": [
    "# Categorizar los asteroides\n",
    "Aplicamos primero un filtro para convertir en 1 a todos los asteroides que sean de 8km o más largos de diametro. Después simplemente ponemos que el resto de los datos se vuelvan 0's, identificandolos como no catastróficos."
   ]
  },
  {
   "cell_type": "code",
   "execution_count": 14,
   "metadata": {},
   "outputs": [
    {
     "name": "stderr",
     "output_type": "stream",
     "text": [
      "c:\\users\\hansr\\appdata\\local\\programs\\python\\python38\\lib\\site-packages\\pandas\\core\\indexing.py:1763: SettingWithCopyWarning: \n",
      "A value is trying to be set on a copy of a slice from a DataFrame.\n",
      "Try using .loc[row_indexer,col_indexer] = value instead\n",
      "\n",
      "See the caveats in the documentation: https://pandas.pydata.org/pandas-docs/stable/user_guide/indexing.html#returning-a-view-versus-a-copy\n",
      "  isetter(loc, value)\n",
      "c:\\users\\hansr\\appdata\\local\\programs\\python\\python38\\lib\\site-packages\\pandas\\core\\indexing.py:1763: SettingWithCopyWarning: \n",
      "A value is trying to be set on a copy of a slice from a DataFrame.\n",
      "Try using .loc[row_indexer,col_indexer] = value instead\n",
      "\n",
      "See the caveats in the documentation: https://pandas.pydata.org/pandas-docs/stable/user_guide/indexing.html#returning-a-view-versus-a-copy\n",
      "  isetter(loc, value)\n"
     ]
    }
   ],
   "source": [
    "df3.loc[df3['diameter'] >= 8, 'diameter'] = 1\n",
    "df3.loc[df3['diameter'] != 1, 'diameter'] = 0"
   ]
  },
  {
   "cell_type": "code",
   "execution_count": 15,
   "metadata": {},
   "outputs": [
    {
     "data": {
      "text/plain": [
       "0.0    15169\n",
       "1.0     9235\n",
       "Name: diameter, dtype: int64"
      ]
     },
     "execution_count": 15,
     "metadata": {},
     "output_type": "execute_result"
    }
   ],
   "source": [
    "df3['diameter'].value_counts()"
   ]
  },
  {
   "cell_type": "markdown",
   "metadata": {},
   "source": [
    "Podemos ver que la variable objetivo ahora tiene una mejor distribución, a diferencia de la que estabamos utilizando originalmente de *pha*."
   ]
  },
  {
   "cell_type": "markdown",
   "metadata": {},
   "source": [
    "## Correlation Matrix\n",
    "Podemos visualizar desde ahorita que no existe una correlación tan fuerte de los datos con respecto a la variable objetivo. Las variables que tienen más correlación serían **moid y H.**"
   ]
  },
  {
   "cell_type": "code",
   "execution_count": 16,
   "metadata": {},
   "outputs": [
    {
     "data": {
      "text/plain": [
       "<AxesSubplot:>"
      ]
     },
     "execution_count": 16,
     "metadata": {},
     "output_type": "execute_result"
    },
    {
     "data": {
      "image/png": "[encoded data removed]",
      "text/plain": [
       "<Figure size 432x288 with 2 Axes>"
      ]
     },
     "metadata": {
      "needs_background": "light"
     },
     "output_type": "display_data"
    }
   ],
   "source": [
    "corr = df3.corr()\n",
    "sns.heatmap(corr, xticklabels = df3.columns, yticklabels=df3.columns, cmap=\"mako\")"
   ]
  },
  {
   "cell_type": "markdown",
   "metadata": {},
   "source": [
    "# Distribución de los Datos"
   ]
  },
  {
   "cell_type": "code",
   "execution_count": 17,
   "metadata": {},
   "outputs": [
    {
     "data": {
      "text/plain": [
       "array([[<AxesSubplot:title={'center':'a'}>,\n",
       "        <AxesSubplot:title={'center':'e'}>,\n",
       "        <AxesSubplot:title={'center':'i'}>,\n",
       "        <AxesSubplot:title={'center':'om'}>],\n",
       "       [<AxesSubplot:title={'center':'w'}>,\n",
       "        <AxesSubplot:title={'center':'q'}>,\n",
       "        <AxesSubplot:title={'center':'ad'}>,\n",
       "        <AxesSubplot:title={'center':'per_y'}>],\n",
       "       [<AxesSubplot:title={'center':'data_arc'}>,\n",
       "        <AxesSubplot:title={'center':'n_obs_used'}>,\n",
       "        <AxesSubplot:title={'center':'H'}>,\n",
       "        <AxesSubplot:title={'center':'diameter'}>],\n",
       "       [<AxesSubplot:title={'center':'albedo'}>,\n",
       "        <AxesSubplot:title={'center':'moid'}>,\n",
       "        <AxesSubplot:title={'center':'n'}>,\n",
       "        <AxesSubplot:title={'center':'per'}>],\n",
       "       [<AxesSubplot:title={'center':'ma'}>, <AxesSubplot:>,\n",
       "        <AxesSubplot:>, <AxesSubplot:>]], dtype=object)"
      ]
     },
     "execution_count": 17,
     "metadata": {},
     "output_type": "execute_result"
    },
    {
     "data": {
      "image/png": "[encoded data removed]",
      "text/plain": [
       "<Figure size 1080x1224 with 20 Axes>"
      ]
     },
     "metadata": {
      "needs_background": "light"
     },
     "output_type": "display_data"
    }
   ],
   "source": [
    "df3.hist(figsize=(15,17))"
   ]
  },
  {
   "cell_type": "markdown",
   "metadata": {},
   "source": [
    "## Normalization Formula\n",
    "La mayoría de columnas tienen una distribución no normal, por lo que nos indica que será más adecuado normalizarlos que utilizar un Standard Scaler. (El standard scaler funciona mejor con datos con distribuciones normales). Abajo podrán visualizar cómo funciona cada uno. Normalizer también se le conoce como un MinMaxScaler.\n",
    "<div>\n",
    "    <center><img src=\"Normalization-Formula.jpg\" width=\"700\"/></center>\n",
    "</div>"
   ]
  },
  {
   "cell_type": "markdown",
   "metadata": {},
   "source": [
    "## Standardization Formula\n",
    "Este método hace un rescale a la data para que tenga una media de 0, y una desviación estándar de 1.\n",
    "<div>\n",
    "    <center><img src=\"stand.png\" width=\"700\"/></center>\n",
    "</div>"
   ]
  },
  {
   "cell_type": "markdown",
   "metadata": {},
   "source": [
    "# Imputation Method\n",
    "Las imputaciones que haremos para los NA's que todavían están presentes serán hechas por la media, ya que si utilizamos el promedio estaríamos afectando los datos por los outliers que están presentes en la columna de albedo.\n",
    "<div>\n",
    "    <center><img src=\"imputation.png\" width=\"700\"/></center>\n",
    "</div>"
   ]
  },
  {
   "cell_type": "markdown",
   "metadata": {},
   "source": [
    "# Filtrado por Quantiles\n",
    "Para poder asegurar lo más posible un buen set de datos, estaré filtrando por cuartiles la data. Quiero poder eliminar outliers sin tener que perjudicar la cantidad de datos que vamos a trabajar con."
   ]
  },
  {
   "cell_type": "code",
   "execution_count": 18,
   "metadata": {},
   "outputs": [
    {
     "data": {
      "text/plain": [
       "(20868, 19)"
      ]
     },
     "execution_count": 18,
     "metadata": {},
     "output_type": "execute_result"
    }
   ],
   "source": [
    "cols = ['a', 'e', 'i', 'q', 'ad', 'per_y', 'data_arc', 'n_obs_used', 'albedo', 'moid', 'n', 'per']\n",
    "Q1 = df.quantile(0.05)\n",
    "Q3 = df.quantile(0.95)\n",
    "IQR = Q3 - Q1\n",
    "df4 = df3[~((df3[cols] < (Q1 - 1.5 * IQR)) |(df3[cols] > (Q3 + 1.5 * IQR))).any(axis=1)]\n",
    "df4.shape"
   ]
  },
  {
   "cell_type": "code",
   "execution_count": 19,
   "metadata": {},
   "outputs": [
    {
     "data": {
      "text/plain": [
       "0.0    14516\n",
       "1.0     6352\n",
       "Name: diameter, dtype: int64"
      ]
     },
     "execution_count": 19,
     "metadata": {},
     "output_type": "execute_result"
    }
   ],
   "source": [
    "df4['diameter'].value_counts()"
   ]
  },
  {
   "cell_type": "markdown",
   "metadata": {},
   "source": [
    "El código de arriba elimina a todos los datos que se encuentren 1.5 veces afuera del intervalo intercuartil. Normalmente los cuartiles serían 25% y 75% pero lo más probable es que nos quedaríamos con un dataset sumamente pequeño. Necesitamos la mayor cantidad de datos posible para poder tener diversidad en las observaciones como también lo suficiente para que el modelo pueda aprender adecuadamente."
   ]
  },
  {
   "cell_type": "markdown",
   "metadata": {},
   "source": [
    "# Nueva distribución de datos"
   ]
  },
  {
   "cell_type": "code",
   "execution_count": 20,
   "metadata": {},
   "outputs": [
    {
     "data": {
      "text/plain": [
       "array([[<AxesSubplot:title={'center':'a'}>,\n",
       "        <AxesSubplot:title={'center':'e'}>,\n",
       "        <AxesSubplot:title={'center':'i'}>,\n",
       "        <AxesSubplot:title={'center':'om'}>],\n",
       "       [<AxesSubplot:title={'center':'w'}>,\n",
       "        <AxesSubplot:title={'center':'q'}>,\n",
       "        <AxesSubplot:title={'center':'ad'}>,\n",
       "        <AxesSubplot:title={'center':'per_y'}>],\n",
       "       [<AxesSubplot:title={'center':'data_arc'}>,\n",
       "        <AxesSubplot:title={'center':'n_obs_used'}>,\n",
       "        <AxesSubplot:title={'center':'H'}>,\n",
       "        <AxesSubplot:title={'center':'diameter'}>],\n",
       "       [<AxesSubplot:title={'center':'albedo'}>,\n",
       "        <AxesSubplot:title={'center':'moid'}>,\n",
       "        <AxesSubplot:title={'center':'n'}>,\n",
       "        <AxesSubplot:title={'center':'per'}>],\n",
       "       [<AxesSubplot:title={'center':'ma'}>, <AxesSubplot:>,\n",
       "        <AxesSubplot:>, <AxesSubplot:>]], dtype=object)"
      ]
     },
     "execution_count": 20,
     "metadata": {},
     "output_type": "execute_result"
    },
    {
     "data": {
      "image/png": "[encoded data removed]",
      "text/plain": [
       "<Figure size 1080x1224 with 20 Axes>"
      ]
     },
     "metadata": {
      "needs_background": "light"
     },
     "output_type": "display_data"
    }
   ],
   "source": [
    "df4.hist(figsize=(15,17))"
   ]
  },
  {
   "cell_type": "markdown",
   "metadata": {},
   "source": [
    "Logramos mejorar un poco la distribución y ahora se parecen más a una distribución normal. En vez de utilizar normalizer, vamos ahora a utilizar el Standard Scaler para transformar los datos."
   ]
  },
  {
   "cell_type": "code",
   "execution_count": 21,
   "metadata": {},
   "outputs": [
    {
     "data": {
      "text/plain": [
       "a              0\n",
       "e              0\n",
       "i              0\n",
       "om             0\n",
       "w              0\n",
       "q              0\n",
       "ad             0\n",
       "per_y          0\n",
       "data_arc       0\n",
       "n_obs_used     0\n",
       "H              0\n",
       "neo            0\n",
       "diameter       0\n",
       "albedo        10\n",
       "moid           0\n",
       "class          0\n",
       "n              0\n",
       "per            0\n",
       "ma             0\n",
       "dtype: int64"
      ]
     },
     "execution_count": 21,
     "metadata": {},
     "output_type": "execute_result"
    }
   ],
   "source": [
    "df4.isnull().sum()"
   ]
  },
  {
   "cell_type": "markdown",
   "metadata": {},
   "source": [
    "# Exportar archivo para reproducibilidad\n",
    "Exportamos el archivo reducido para poder utilizarse más adelante en los análisis posteriores. Este lo podrán encontrar adjunto con el entregable sin necesidad de correr los códigos anteriores."
   ]
  },
  {
   "cell_type": "code",
   "execution_count": 22,
   "metadata": {},
   "outputs": [],
   "source": [
    "df4.to_csv('asteroid_reduced.csv', index=False)\n",
    "df5 = pd.read_csv('asteroid_reduced.csv')"
   ]
  },
  {
   "cell_type": "markdown",
   "metadata": {},
   "source": [
    "# Separación variables X y Y"
   ]
  },
  {
   "cell_type": "code",
   "execution_count": 23,
   "metadata": {},
   "outputs": [],
   "source": [
    "y = df5['diameter']\n",
    "X = df5.drop('diameter', axis=1)"
   ]
  },
  {
   "cell_type": "markdown",
   "metadata": {},
   "source": [
    "# Pre procesamiento columnas X's"
   ]
  },
  {
   "cell_type": "markdown",
   "metadata": {},
   "source": [
    "# Pipelines para preprocessing\n",
    "Necesitamos transformar la data para poder entregar al modelo un set de datos que pueda procesar. Utilizamos pipeline poder aplicar one hot encoding a las categóricas (hace dummify las variables para poder representarse en números y que el modelo de machine learning logre procesarlo), median imputer para la columna númerica que tiene NA's, y finalmente un Standard Scaler para rescale los valores"
   ]
  },
  {
   "cell_type": "code",
   "execution_count": 24,
   "metadata": {},
   "outputs": [],
   "source": [
    "from sklearn.pipeline import Pipeline\n",
    "from sklearn.preprocessing import OneHotEncoder\n",
    "from sklearn.preprocessing import Normalizer\n",
    "from sklearn.impute import SimpleImputer\n",
    "from sklearn.preprocessing import StandardScaler\n",
    "\n",
    "\n",
    "cat_pipeline = Pipeline([\n",
    "        ('oh_enc', OneHotEncoder())\n",
    "    ])\n",
    "\n",
    "num_pipeline = Pipeline([\n",
    "        ('imputer', SimpleImputer(strategy=\"median\")),\n",
    "        ('normalize_data', StandardScaler())\n",
    "    ])\n"
   ]
  },
  {
   "cell_type": "code",
   "execution_count": 25,
   "metadata": {},
   "outputs": [],
   "source": [
    "num_col = X.select_dtypes(include='number').columns\n",
    "cat_col = X.select_dtypes(exclude='number').columns"
   ]
  },
  {
   "cell_type": "code",
   "execution_count": 26,
   "metadata": {},
   "outputs": [],
   "source": [
    "from sklearn.compose import ColumnTransformer\n",
    "full_pipeline = ColumnTransformer([\n",
    "        (\"cat\", cat_pipeline, cat_col),\n",
    "        (\"num\", num_pipeline, num_col)\n",
    "    ])"
   ]
  },
  {
   "cell_type": "markdown",
   "metadata": {},
   "source": [
    "Se juntan los dos transformers para tener el full pipeline necesario para procesar el X_train y X_test"
   ]
  },
  {
   "cell_type": "markdown",
   "metadata": {},
   "source": [
    "### Splitting Data\n",
    "Separamos el dataset en 70% training y 30% testing, ponemos un random state para reproducibilidad y ponemos el parámetro shuffle como *True*  para que haga shuffle la data"
   ]
  },
  {
   "cell_type": "code",
   "execution_count": 27,
   "metadata": {},
   "outputs": [],
   "source": [
    "from sklearn.model_selection import train_test_split\n",
    "X_train, X_test, y_train, y_test = train_test_split(X, y, test_size=0.3, random_state=20, shuffle=True)"
   ]
  },
  {
   "cell_type": "code",
   "execution_count": 28,
   "metadata": {},
   "outputs": [
    {
     "name": "stdout",
     "output_type": "stream",
     "text": [
      "(14607, 24)\n"
     ]
    }
   ],
   "source": [
    "X_train_processed = full_pipeline.fit_transform(X_train)\n",
    "print(X_train_processed.shape)"
   ]
  },
  {
   "cell_type": "code",
   "execution_count": 29,
   "metadata": {},
   "outputs": [
    {
     "name": "stdout",
     "output_type": "stream",
     "text": [
      "(6261, 24)\n"
     ]
    }
   ],
   "source": [
    "X_test_processed = full_pipeline.fit_transform(X_test)\n",
    "print(X_test_processed.shape)"
   ]
  },
  {
   "cell_type": "markdown",
   "metadata": {},
   "source": [
    "# F1 Scoring\n",
    "El F1 score es una combinación de las métricas de precision y recall. Nos da una accuracy del modelo.\n",
    "* Precision: Son los positivos verdaderos divididos por la suma de todos los positivos verdaders y todos los negativos verdaderos\n",
    "* Recall: Se refiere a la predicción correcta de los positivos, es la proporción entre los positivos verdaderos y todos los positivos.\n",
    "\n",
    "Si queremos que el modelo tenga más precision, estamos diciendo que preferimos tener errores de un negativo falso. En nuestro caso, sería decir que preferimos cometer el error de clasificar a un asteroide como no peligroso cuando realmente lo es.\n",
    "Si queremos que el modelo tenga más recall, estamos diciendo que preferimos tener errores de un falso positivo. En nuestro caso, sería decir que preferimos clasificar a un asteroide como potencialmente peligroso, cuando realmente no lo es.\n",
    "Ambas métricas son importantes para nosotros, pues es sumamente peligroso no tener en cuenta que un asteroide es peligroso. Sin embargo, tampoco podemos gastar recursos y mandar una nave/cohete hacia un asteroide que no es peligroso ya que estaríamos gastando recursos, esfuerzos y dejándonos vulnerable al impacto de otro asteroide que probablemente sí llegue a la Tierra"
   ]
  },
  {
   "cell_type": "code",
   "execution_count": 30,
   "metadata": {},
   "outputs": [],
   "source": [
    "from keras import backend as K\n",
    "def recall(y_true, y_pred):\n",
    "    y_true = K.ones_like(y_true) \n",
    "    true_positives = K.sum(K.round(K.clip(y_true * y_pred, 0, 1)))\n",
    "    all_positives = K.sum(K.round(K.clip(y_true, 0, 1)))\n",
    "    \n",
    "    recall = true_positives / (all_positives + K.epsilon())\n",
    "    return recall\n",
    "\n",
    "def precision(y_true, y_pred):\n",
    "    y_true = K.ones_like(y_true) \n",
    "    true_positives = K.sum(K.round(K.clip(y_true * y_pred, 0, 1)))\n",
    "    \n",
    "    predicted_positives = K.sum(K.round(K.clip(y_pred, 0, 1)))\n",
    "    precision = true_positives / (predicted_positives + K.epsilon())\n",
    "    return precision\n",
    "\n",
    "def f1_score(y_true, y_pred):\n",
    "    precision_2 = precision(y_true, y_pred)\n",
    "    recall_2 = recall(y_true, y_pred)\n",
    "    return 2*((precision_2*recall_2)/(precision_2+recall_2+K.epsilon()))"
   ]
  },
  {
   "cell_type": "markdown",
   "metadata": {},
   "source": [
    "# Modelo Redes Neuronales\n",
    "Nuestra red neuronal tiene 4 capas, de las cuales 3 son hidden layers que procesan y la última es el output layer. El primer layer es de 24 neuronas, ya que ese es la dimensión que contamos con nuestros datos X's. Después de manera consecutiva, se reduce el número de capas por la mitad hasta finalmente tener el output layer. Los hidden layers todos tienen activación relu que es lo estándar al usar redes. La parte más importante es la del output layer. Dependiendo del problema que estemos tratando de solucionar, se debe de escoger la función de activación apropiada para la output layer. En nuestro caso, como estamos prediciendo valores entre 0 y 1, utilizamos la función sigmoide. Abajo podrán ver que traté de utilizar un GridSearchCV para poder encontrar los parámetros óptimos del modelo. Sin embargo, estuve teniendo problemas con el procesamiento como también los resultados. Decidí mejor utilizar los modelos por separado.\n",
    "<div>\n",
    "    <center><img src=\"sigmoid.png\" width=\"700\"/></center>\n",
    "</div>"
   ]
  },
  {
   "cell_type": "code",
   "execution_count": 31,
   "metadata": {},
   "outputs": [
    {
     "data": {
      "text/plain": [
       "\"\\nfrom keras.wrappers.scikit_learn import KerasClassifier\\nfrom sklearn.model_selection import GridSearchCV\\n\\ndef create_model(optimizer='adam'):\\n    model = Sequential()\\n    model.add(Dense(24, input_dim=24, activation='relu'))\\n    model.add(Dense(12, activation='relu'))\\n    model.add(Dense(6, activation='relu'))\\n    model.add(Dense(1, activation='sigmoid'))\\n    model.compile(loss='binary_crossentropy', metrics=[f1_score])\\n    return model \\n\\noptimizer = ['SGD', 'adam']\\nbatch_size = [10, 20, 40, 50]\\nepochs = [25, 50]\\nparam_grid = dict(optimizer=optimizer, batch_size=batch_size, epochs=epochs)\\nmodel = KerasClassifier(build_fn=create_model, verbose=2)\\ngrid = GridSearchCV(estimator=model, param_grid=param_grid, n_jobs=-1, cv=3)\\ngrid_result = grid.fit(X_train_processed, y_train)\\n\""
      ]
     },
     "execution_count": 31,
     "metadata": {},
     "output_type": "execute_result"
    }
   ],
   "source": [
    "'''\n",
    "from keras.wrappers.scikit_learn import KerasClassifier\n",
    "from sklearn.model_selection import GridSearchCV\n",
    "\n",
    "def create_model(optimizer='adam'):\n",
    "    model = Sequential()\n",
    "    model.add(Dense(24, input_dim=24, activation='relu'))\n",
    "    model.add(Dense(12, activation='relu'))\n",
    "    model.add(Dense(6, activation='relu'))\n",
    "    model.add(Dense(1, activation='sigmoid'))\n",
    "    model.compile(loss='binary_crossentropy', metrics=[f1_score])\n",
    "    return model \n",
    "\n",
    "optimizer = ['SGD', 'adam']\n",
    "batch_size = [10, 20, 40, 50]\n",
    "epochs = [25, 50]\n",
    "param_grid = dict(optimizer=optimizer, batch_size=batch_size, epochs=epochs)\n",
    "model = KerasClassifier(build_fn=create_model, verbose=2)\n",
    "grid = GridSearchCV(estimator=model, param_grid=param_grid, n_jobs=-1, cv=3)\n",
    "grid_result = grid.fit(X_train_processed, y_train)\n",
    "'''"
   ]
  },
  {
   "cell_type": "markdown",
   "metadata": {},
   "source": [
    "# Parámetros\n",
    "### Loss Function\n",
    "Dado a que estamos trabajando simplemente con 1's y 0's, utilizamos la loss function de binary crossentropy. Este método compara cada una de las probabilidades predecidas a una clase (1 o 0). Dependiendo de la distancia que tiene con el score real, es como penaliza el modelo. \n",
    "<div>\n",
    "    <center><img src=\"loss.png\" width=\"700\"/></center>\n",
    "</div>\n",
    "\n",
    "### Optimizador Adam\n",
    "Actualiza los pesos de la redes neuronales iterativamente, y mantiene un promedio exponencial que decae de los gradientes anteriores. Este algoritmo se utiliza como un sustito al SGD."
   ]
  },
  {
   "cell_type": "code",
   "execution_count": 32,
   "metadata": {},
   "outputs": [],
   "source": [
    "from keras.models import Sequential\n",
    "from keras.layers import Dense\n",
    "from keras import optimizers\n",
    "import tensorflow as tf\n",
    "model = Sequential()\n",
    "model.add(Dense(24, input_dim=24, activation='relu'))\n",
    "model.add(Dense(12, activation='relu'))\n",
    "model.add(Dense(6, activation='relu'))\n",
    "model.add(Dense(1, activation='sigmoid'))\n",
    "opt = optimizers.Adam(learning_rate=0.01)\n",
    "model.compile(loss=['binary_crossentropy'], metrics=[f1_score], optimizer=opt)"
   ]
  },
  {
   "cell_type": "code",
   "execution_count": 33,
   "metadata": {},
   "outputs": [
    {
     "name": "stdout",
     "output_type": "stream",
     "text": [
      "Epoch 1/50\n",
      "1461/1461 [==============================] - 2s 759us/step - loss: 0.1624 - f1_score: 0.4388\n",
      "Epoch 2/50\n",
      "1461/1461 [==============================] - 1s 737us/step - loss: 0.1164 - f1_score: 0.4489\n",
      "Epoch 3/50\n",
      "1461/1461 [==============================] - 1s 745us/step - loss: 0.1040 - f1_score: 0.4493\n",
      "Epoch 4/50\n",
      "1461/1461 [==============================] - 1s 818us/step - loss: 0.1021 - f1_score: 0.4470\n",
      "Epoch 5/50\n",
      "1461/1461 [==============================] - 1s 769us/step - loss: 0.1025 - f1_score: 0.4491\n",
      "Epoch 6/50\n",
      "1461/1461 [==============================] - 1s 748us/step - loss: 0.1004 - f1_score: 0.4553\n",
      "Epoch 7/50\n",
      "1461/1461 [==============================] - 1s 706us/step - loss: 0.0993 - f1_score: 0.4507\n",
      "Epoch 8/50\n",
      "1461/1461 [==============================] - 1s 759us/step - loss: 0.0997 - f1_score: 0.4497\n",
      "Epoch 9/50\n",
      "1461/1461 [==============================] - 1s 765us/step - loss: 0.0979 - f1_score: 0.4479\n",
      "Epoch 10/50\n",
      "1461/1461 [==============================] - 1s 760us/step - loss: 0.0977 - f1_score: 0.4481\n",
      "Epoch 11/50\n",
      "1461/1461 [==============================] - 1s 767us/step - loss: 0.0949 - f1_score: 0.4472\n",
      "Epoch 12/50\n",
      "1461/1461 [==============================] - 1s 760us/step - loss: 0.0975 - f1_score: 0.4473\n",
      "Epoch 13/50\n",
      "1461/1461 [==============================] - 1s 749us/step - loss: 0.0955 - f1_score: 0.4478\n",
      "Epoch 14/50\n",
      "1461/1461 [==============================] - 1s 847us/step - loss: 0.0951 - f1_score: 0.4460\n",
      "Epoch 15/50\n",
      "1461/1461 [==============================] - 1s 752us/step - loss: 0.0941 - f1_score: 0.4499\n",
      "Epoch 16/50\n",
      "1461/1461 [==============================] - 1s 745us/step - loss: 0.0939 - f1_score: 0.4482\n",
      "Epoch 17/50\n",
      "1461/1461 [==============================] - 1s 767us/step - loss: 0.0938 - f1_score: 0.4474\n",
      "Epoch 18/50\n",
      "1461/1461 [==============================] - 1s 753us/step - loss: 0.0932 - f1_score: 0.4490\n",
      "Epoch 19/50\n",
      "1461/1461 [==============================] - 1s 751us/step - loss: 0.0916 - f1_score: 0.4490\n",
      "Epoch 20/50\n",
      "1461/1461 [==============================] - 1s 755us/step - loss: 0.0919 - f1_score: 0.4470\n",
      "Epoch 21/50\n",
      "1461/1461 [==============================] - 1s 770us/step - loss: 0.0936 - f1_score: 0.4487\n",
      "Epoch 22/50\n",
      "1461/1461 [==============================] - 1s 758us/step - loss: 0.0917 - f1_score: 0.4469\n",
      "Epoch 23/50\n",
      "1461/1461 [==============================] - 1s 769us/step - loss: 0.0929 - f1_score: 0.4477\n",
      "Epoch 24/50\n",
      "1461/1461 [==============================] - 1s 832us/step - loss: 0.0919 - f1_score: 0.4461\n",
      "Epoch 25/50\n",
      "1461/1461 [==============================] - 1s 757us/step - loss: 0.0906 - f1_score: 0.4463\n",
      "Epoch 26/50\n",
      "1461/1461 [==============================] - 1s 749us/step - loss: 0.0922 - f1_score: 0.4482\n",
      "Epoch 27/50\n",
      "1461/1461 [==============================] - 1s 751us/step - loss: 0.0898 - f1_score: 0.4498\n",
      "Epoch 28/50\n",
      "1461/1461 [==============================] - 1s 754us/step - loss: 0.0899 - f1_score: 0.4505\n",
      "Epoch 29/50\n",
      "1461/1461 [==============================] - 1s 772us/step - loss: 0.0882 - f1_score: 0.4502\n",
      "Epoch 30/50\n",
      "1461/1461 [==============================] - 1s 752us/step - loss: 0.0897 - f1_score: 0.4495\n",
      "Epoch 31/50\n",
      "1461/1461 [==============================] - 1s 758us/step - loss: 0.0888 - f1_score: 0.4432\n",
      "Epoch 32/50\n",
      "1461/1461 [==============================] - 1s 742us/step - loss: 0.0912 - f1_score: 0.4481\n",
      "Epoch 33/50\n",
      "1461/1461 [==============================] - 1s 819us/step - loss: 0.0884 - f1_score: 0.4459\n",
      "Epoch 34/50\n",
      "1461/1461 [==============================] - 1s 785us/step - loss: 0.0908 - f1_score: 0.4477\n",
      "Epoch 35/50\n",
      "1461/1461 [==============================] - 1s 755us/step - loss: 0.0895 - f1_score: 0.4469\n",
      "Epoch 36/50\n",
      "1461/1461 [==============================] - 1s 758us/step - loss: 0.0880 - f1_score: 0.4481\n",
      "Epoch 37/50\n",
      "1461/1461 [==============================] - 1s 748us/step - loss: 0.0883 - f1_score: 0.4480\n",
      "Epoch 38/50\n",
      "1461/1461 [==============================] - 1s 745us/step - loss: 0.0892 - f1_score: 0.4477\n",
      "Epoch 39/50\n",
      "1461/1461 [==============================] - 1s 765us/step - loss: 0.0879 - f1_score: 0.4472\n",
      "Epoch 40/50\n",
      "1461/1461 [==============================] - 1s 758us/step - loss: 0.0893 - f1_score: 0.4483\n",
      "Epoch 41/50\n",
      "1461/1461 [==============================] - 1s 767us/step - loss: 0.0863 - f1_score: 0.4500\n",
      "Epoch 42/50\n",
      "1461/1461 [==============================] - 1s 745us/step - loss: 0.0885 - f1_score: 0.4452\n",
      "Epoch 43/50\n",
      "1461/1461 [==============================] - 1s 875us/step - loss: 0.0873 - f1_score: 0.4468\n",
      "Epoch 44/50\n",
      "1461/1461 [==============================] - 1s 765us/step - loss: 0.0883 - f1_score: 0.44650s - los\n",
      "Epoch 45/50\n",
      "1461/1461 [==============================] - 1s 752us/step - loss: 0.0892 - f1_score: 0.4486\n",
      "Epoch 46/50\n",
      "1461/1461 [==============================] - 1s 754us/step - loss: 0.0870 - f1_score: 0.4472\n",
      "Epoch 47/50\n",
      "1461/1461 [==============================] - 1s 760us/step - loss: 0.0876 - f1_score: 0.4490\n",
      "Epoch 48/50\n",
      "1461/1461 [==============================] - 1s 752us/step - loss: 0.0881 - f1_score: 0.4462\n",
      "Epoch 49/50\n",
      "1461/1461 [==============================] - 1s 765us/step - loss: 0.0864 - f1_score: 0.4464\n",
      "Epoch 50/50\n",
      "1461/1461 [==============================] - 1s 752us/step - loss: 0.0868 - f1_score: 0.4468\n"
     ]
    },
    {
     "data": {
      "text/plain": [
       "<keras.callbacks.History at 0x1ae1a620b80>"
      ]
     },
     "execution_count": 33,
     "metadata": {},
     "output_type": "execute_result"
    }
   ],
   "source": [
    "model.fit(X_train_processed, y_train, epochs=50, batch_size=10, use_multiprocessing=True)"
   ]
  },
  {
   "cell_type": "code",
   "execution_count": 34,
   "metadata": {},
   "outputs": [
    {
     "name": "stdout",
     "output_type": "stream",
     "text": [
      "627/627 [==============================] - 0s 506us/step - loss: 0.0954 - f1_score: 0.4584\n",
      "test loss, test acc: [0.09539930522441864, 0.4583682417869568]\n"
     ]
    }
   ],
   "source": [
    "results = model.evaluate(X_test_processed, y_test, batch_size=10, use_multiprocessing=True)\n",
    "print(\"test loss, test acc:\", results)"
   ]
  },
  {
   "cell_type": "markdown",
   "metadata": {},
   "source": [
    "Podemos ver que nuestro modelo se mantiene constante entre el training y el testing set con un F1 score de 45. Estaremos evaluando el modelo de SDG para ver si podemos mejorar la métrica."
   ]
  },
  {
   "cell_type": "markdown",
   "metadata": {},
   "source": [
    "### Stochastic Gradient Descent\n",
    "Elabora una actualización de parámetros para cada observación del training set y su respectiva *y*. Siempre se inicializan con parámetros random the theta, y después el modelo va iterativamente trabajando en la pendiente de la función hasta que alcanza el punto más bajo posible. Tomado de: https://towardsdatascience.com/stochastic-gradient-descent-clearly-explained-53d239905d31"
   ]
  },
  {
   "cell_type": "code",
   "execution_count": 35,
   "metadata": {},
   "outputs": [],
   "source": [
    "model = Sequential()\n",
    "model.add(Dense(24, input_dim=24, activation='relu'))\n",
    "model.add(Dense(12, activation='relu'))\n",
    "model.add(Dense(6, activation='relu'))\n",
    "model.add(Dense(1, activation='sigmoid'))\n",
    "opt = tf.keras.optimizers.SGD(learning_rate=0.01)\n",
    "model.compile(loss='binary_crossentropy', metrics=[f1_score], optimizer=opt)"
   ]
  },
  {
   "cell_type": "code",
   "execution_count": 36,
   "metadata": {},
   "outputs": [
    {
     "name": "stdout",
     "output_type": "stream",
     "text": [
      "Epoch 1/50\n",
      "1461/1461 [==============================] - 1s 635us/step - loss: 0.2663 - f1_score: 0.4121\n",
      "Epoch 2/50\n",
      "1461/1461 [==============================] - 1s 689us/step - loss: 0.1268 - f1_score: 0.4429\n",
      "Epoch 3/50\n",
      "1461/1461 [==============================] - 1s 637us/step - loss: 0.1176 - f1_score: 0.4441\n",
      "Epoch 4/50\n",
      "1461/1461 [==============================] - 1s 634us/step - loss: 0.1110 - f1_score: 0.4433\n",
      "Epoch 5/50\n",
      "1461/1461 [==============================] - 1s 644us/step - loss: 0.1059 - f1_score: 0.4443\n",
      "Epoch 6/50\n",
      "1461/1461 [==============================] - 1s 649us/step - loss: 0.1023 - f1_score: 0.4443\n",
      "Epoch 7/50\n",
      "1461/1461 [==============================] - 1s 620us/step - loss: 0.0995 - f1_score: 0.4453\n",
      "Epoch 8/50\n",
      "1461/1461 [==============================] - 1s 650us/step - loss: 0.0977 - f1_score: 0.4457\n",
      "Epoch 9/50\n",
      "1461/1461 [==============================] - 1s 659us/step - loss: 0.0960 - f1_score: 0.4451\n",
      "Epoch 10/50\n",
      "1461/1461 [==============================] - 1s 619us/step - loss: 0.0950 - f1_score: 0.4456\n",
      "Epoch 11/50\n",
      "1461/1461 [==============================] - 1s 636us/step - loss: 0.0925 - f1_score: 0.4469\n",
      "Epoch 12/50\n",
      "1461/1461 [==============================] - 1s 630us/step - loss: 0.0914 - f1_score: 0.4471\n",
      "Epoch 13/50\n",
      "1461/1461 [==============================] - 1s 665us/step - loss: 0.0919 - f1_score: 0.4459\n",
      "Epoch 14/50\n",
      "1461/1461 [==============================] - 1s 672us/step - loss: 0.0908 - f1_score: 0.4447\n",
      "Epoch 15/50\n",
      "1461/1461 [==============================] - 1s 627us/step - loss: 0.0903 - f1_score: 0.4470\n",
      "Epoch 16/50\n",
      "1461/1461 [==============================] - 1s 662us/step - loss: 0.0897 - f1_score: 0.4460\n",
      "Epoch 17/50\n",
      "1461/1461 [==============================] - 1s 641us/step - loss: 0.0885 - f1_score: 0.4475\n",
      "Epoch 18/50\n",
      "1461/1461 [==============================] - 1s 635us/step - loss: 0.0886 - f1_score: 0.4460\n",
      "Epoch 19/50\n",
      "1461/1461 [==============================] - 1s 613us/step - loss: 0.0886 - f1_score: 0.4473\n",
      "Epoch 20/50\n",
      "1461/1461 [==============================] - 1s 620us/step - loss: 0.0873 - f1_score: 0.4459\n",
      "Epoch 21/50\n",
      "1461/1461 [==============================] - 1s 639us/step - loss: 0.0865 - f1_score: 0.4460\n",
      "Epoch 22/50\n",
      "1461/1461 [==============================] - 1s 637us/step - loss: 0.0873 - f1_score: 0.4464\n",
      "Epoch 23/50\n",
      "1461/1461 [==============================] - 1s 654us/step - loss: 0.0871 - f1_score: 0.4465\n",
      "Epoch 24/50\n",
      "1461/1461 [==============================] - 1s 629us/step - loss: 0.0866 - f1_score: 0.4460\n",
      "Epoch 25/50\n",
      "1461/1461 [==============================] - 1s 698us/step - loss: 0.0865 - f1_score: 0.4471\n",
      "Epoch 26/50\n",
      "1461/1461 [==============================] - 1s 641us/step - loss: 0.0861 - f1_score: 0.4459\n",
      "Epoch 27/50\n",
      "1461/1461 [==============================] - 1s 645us/step - loss: 0.0860 - f1_score: 0.4464\n",
      "Epoch 28/50\n",
      "1461/1461 [==============================] - 1s 648us/step - loss: 0.0859 - f1_score: 0.4474\n",
      "Epoch 29/50\n",
      "1461/1461 [==============================] - 1s 648us/step - loss: 0.0851 - f1_score: 0.4476\n",
      "Epoch 30/50\n",
      "1461/1461 [==============================] - 1s 660us/step - loss: 0.0855 - f1_score: 0.4459\n",
      "Epoch 31/50\n",
      "1461/1461 [==============================] - 1s 646us/step - loss: 0.0846 - f1_score: 0.4465\n",
      "Epoch 32/50\n",
      "1461/1461 [==============================] - 1s 624us/step - loss: 0.0848 - f1_score: 0.4483\n",
      "Epoch 33/50\n",
      "1461/1461 [==============================] - 1s 634us/step - loss: 0.0851 - f1_score: 0.4483\n",
      "Epoch 34/50\n",
      "1461/1461 [==============================] - 1s 639us/step - loss: 0.0853 - f1_score: 0.4467\n",
      "Epoch 35/50\n",
      "1461/1461 [==============================] - 1s 632us/step - loss: 0.0848 - f1_score: 0.4459\n",
      "Epoch 36/50\n",
      "1461/1461 [==============================] - 1s 645us/step - loss: 0.0836 - f1_score: 0.4469\n",
      "Epoch 37/50\n",
      "1461/1461 [==============================] - 1s 689us/step - loss: 0.0848 - f1_score: 0.4454\n",
      "Epoch 38/50\n",
      "1461/1461 [==============================] - 1s 640us/step - loss: 0.0839 - f1_score: 0.4485\n",
      "Epoch 39/50\n",
      "1461/1461 [==============================] - 1s 647us/step - loss: 0.0843 - f1_score: 0.4467\n",
      "Epoch 40/50\n",
      "1461/1461 [==============================] - 1s 629us/step - loss: 0.0843 - f1_score: 0.4474\n",
      "Epoch 41/50\n",
      "1461/1461 [==============================] - 1s 641us/step - loss: 0.0843 - f1_score: 0.4490\n",
      "Epoch 42/50\n",
      "1461/1461 [==============================] - 1s 609us/step - loss: 0.0834 - f1_score: 0.4481\n",
      "Epoch 43/50\n",
      "1461/1461 [==============================] - 1s 622us/step - loss: 0.0843 - f1_score: 0.4475\n",
      "Epoch 44/50\n",
      "1461/1461 [==============================] - 1s 634us/step - loss: 0.0832 - f1_score: 0.4466\n",
      "Epoch 45/50\n",
      "1461/1461 [==============================] - 1s 637us/step - loss: 0.0829 - f1_score: 0.4469\n",
      "Epoch 46/50\n",
      "1461/1461 [==============================] - 1s 626us/step - loss: 0.0832 - f1_score: 0.4462\n",
      "Epoch 47/50\n",
      "1461/1461 [==============================] - 1s 614us/step - loss: 0.0828 - f1_score: 0.4449\n",
      "Epoch 48/50\n",
      "1461/1461 [==============================] - 1s 653us/step - loss: 0.0831 - f1_score: 0.4479\n",
      "Epoch 49/50\n",
      "1461/1461 [==============================] - 1s 652us/step - loss: 0.0828 - f1_score: 0.4470\n",
      "Epoch 50/50\n",
      "1461/1461 [==============================] - 1s 661us/step - loss: 0.0831 - f1_score: 0.4473\n"
     ]
    },
    {
     "data": {
      "text/plain": [
       "<keras.callbacks.History at 0x1ae1ad2efa0>"
      ]
     },
     "execution_count": 36,
     "metadata": {},
     "output_type": "execute_result"
    }
   ],
   "source": [
    "model.fit(X_train_processed, y_train, epochs=50, batch_size=10, use_multiprocessing=True)"
   ]
  },
  {
   "cell_type": "code",
   "execution_count": 37,
   "metadata": {},
   "outputs": [
    {
     "name": "stdout",
     "output_type": "stream",
     "text": [
      "627/627 [==============================] - 0s 525us/step - loss: 0.0928 - f1_score: 0.4600\n",
      "test loss, test acc: [0.0928306058049202, 0.4600352942943573]\n"
     ]
    }
   ],
   "source": [
    "results = model.evaluate(X_test_processed, y_test, batch_size=10, use_multiprocessing=True)\n",
    "print(\"test loss, test acc:\", results)"
   ]
  },
  {
   "cell_type": "markdown",
   "metadata": {},
   "source": [
    "El modelo de SDG le ganó a Adam por a penas unos decimales."
   ]
  },
  {
   "cell_type": "markdown",
   "metadata": {},
   "source": [
    "# Conclusiones\n",
    "## Calidad de Datos\n",
    "Al inicio teníamos +800,000 registros de asteroides. El problema empezó cuando vimos que habían columnas con hasta 99% de data faltante, y estas se eliminaron ya que no nos iban a proveer mayor información o relevancia al predecir los resultados. Es posible que estas columnas ayuden a definir con más precisión las clases que estamos tratando de predecir. Otro problema relacionado con esto, era que nuestra variable objetivo también sufría de NA's y tuvimos que eliminar todos los registros para poder obtener solo las filas completas que eran a penas 24,000 del dataset total. \n",
    "## Poder computacional\n",
    "Al tratar de elaborar el GridSearchCV, la computadora era capaz de procesar la información y carga. Sin embargo, se tardaba considerablemente y tenía problemas de sobre calentarse lo cual la ponía lenta ciertos momentos. Tampoco podía implementar todos los parámetros adicionales ya que esto agregaba complejidad como también carga de procesos a la computadora. En alguna futura oportunidad sería interesante tener un equipo de cómputo capaz de procesar este tipo de información de manera rápida.\n",
    "## Tiempo\n",
    "Relacionado con el punto anterior, estaba restringido al tiempo que le podía dedicar a cada modelo. Tenía que elaborar el reporte escrito dentro de este notebook, como también hacer la presentación que complementa el contenido de este notebook. Con el tiempo necesario, puede ser posible elaborar un modelo más robusto y dedicarle más tiempo al ajuste de parámetros.\n",
    "## Calidad y Resultados del Modelo\n",
    "Con el contexto de la data, considero que el modelo está decente para la calidad de datos que logramos imponerle. Utilizamos la métrica de F1 score ya que queremos tener la habilidad de poder clasificar bien los asteroides no peligrosos como también los peligrosos. **El F1 score más alto lo tuvo el modelo SDG con una puntuación de 46**. Podemos interpretar el resultado como el modelo desempeña de manera subóptima, ya que estaría mejor simplemente adivinar si el asteroide es peligroso o no. El modelo no puede clasificar bien si es peligroso o no es peligroso. Siempre es importante hacer todo el preprocesamiento necesario para poder reducir márgenes de error, aunque esto no asegure que el modelo vaya a ser óptimo. Otro factor que afecta el resultado son las variables categóricas ya que al aplicarles one hot encoding, puede ocasionar bastante ruido dentro de la data dependiendo de cuantas clases existen. (En nuestro caso era la columna de class) Más adelante se podría obtener nuevos datos de asteroides para tener una base de registros más grande y con la esperanza que el resto de columnas se encuentren con datos y no vacías.\n",
    "## Futuro\n",
    "Elaborando este proyecto tuve la esperanza de que alguien más pueda reproducir lo que se vió en este proyecto y poder aplicarlo ya en un ámbito profesional de astronomía. Seguramente tienen mejores conocimientos sobre qué datos son relevantes y los modelos a usar. No mucha gente está consciente de la amenaza que enfrentamos con objetos del espacio, y esto es dado a que las probabilidades que uno de ellos colisione con nosotros es casi nula. Pero en términos astronómicos, los porcentajes se interpretan de manera diferente. Cualquier presencia aunque sea mínima de riesgo llama la atención a cualquier entusiasta del espacio y profesionales a la vez. Adicionalmente, los sistemas de respuesta para este tipo de peligro toman tiempo en desarrollarse como también grandes cantidades de dinero. Es mejor estar preparados para cualquier circustancia que esperar al día que tengamos que elaborar un plan de contingencia improvisado. Espero que con este proyecto se haya resaltado la importancia de ponerle atención y consciencia a este tipo de amenazas, aunque no las enfrentemos todos los días. \n",
    "<div>\n",
    "    <center><img src=\"asteroidpicture.jpg\" width=\"700\"/></center>\n",
    "</div>"
   ]
  },
  {
   "cell_type": "markdown",
   "metadata": {},
   "source": [
    "# Referencias\n",
    "* Asteroid Belts. Asteroid Belts - an overview | ScienceDirect Topics. (n.d.). https://www.sciencedirect.com/topics/earth-and-planetary-sciences/asteroid-belts. \n",
    "* Basu, V. (2019, December 12). Open Asteroid Dataset. Kaggle. https://www.kaggle.com/basu369victor/prediction-of-asteroid-diameter. \n",
    "* Boslough, M., Nicoll, K., Holliday, V., &amp; Jull, A. J. T. (2021, February 24). Figure 3. The largest asteroid impact expected over a 20,000 year... ResearchGate. https://www.researchgate.net/figure/The-largest-asteroid-impact-expected-over-a-20-000-year-interval-is-250-m-Impact-by-an_fig3_259950697#:~:text=The%20mean%20recurrence%20interval%20for,the%20last%20100%20million%20years. \n",
    "* Brownlee, J. (2020, August 27). How to Grid Search Hyperparameters for Deep Learning Models in Python With Keras. Machine Learning Mastery. https://machinelearningmastery.com/grid-search-hyperparameters-deep-learning-models-python-keras/. \n",
    "* Brownlee, J. (2021, January 21). How to Choose an Activation Function for Deep Learning. Machine Learning Mastery. https://machinelearningmastery.com/choose-an-activation-function-for-deep-learning/. \n",
    "* Childers, T. (2019, September 4). What's the Difference Between Asteroids, Comets and Meteors? LiveScience. https://www.livescience.com/difference-between-asteroids-comets-and-meteors.html. \n",
    "* Code Faster with Line-of-Code Completions, Cloudless Processing. Kite. (n.d.). https://www.kite.com/python/answers/how-to-convert-a-pandas-dataframe-column-of-strings-to-floats-in-python#:~:text=Use%20pandas.,the%20column%20values%20to%20floats. \n",
    "* Dave Mosher, R. L. (2018, June 30). How large asteroids must be to destroy a city, state, country, or the planet. Business Insider. https://www.businessinsider.com/asteroid-sizes-that-can-damage-cities-states-planet-2018-6. \n",
    "* Encyclopædia Britannica, inc. (n.d.). Anomaly. Encyclopædia Britannica. https://www.britannica.com/science/anomaly-astronomy#ref105659. \n",
    "* Encyclopædia Britannica, inc. (n.d.). Encyclopædia Britannica. Encyclopædia Britannica Argument of the Perihelion. https://www.britannica.com/science/argument-of-the-perihelion. \n",
    "* Encyclopædia Britannica, inc. (n.d.). Encyclopædia Britannica. Encyclopædia Britannica Eccentricity Astronomy. https://www.britannica.com/science/eccentricity-astronomy. \n",
    "* Futurism. (2015, December 25). Armageddon: How Large Must an Asteroid be to Exterminate All Life on Earth? Futurism. https://futurism.com/19943. \n",
    "* Greicius, T. (2021, March 25). NASA Analysis: Earth Is Safe From Asteroid Apophis for 100-Plus Years. NASA. https://www.nasa.gov/feature/jpl/nasa-analysis-earth-is-safe-from-asteroid-apophis-for-100-plus-years. \n",
    "* How Big Does An Asteroid Have To Be To Destroy All Life? How Big Does An Asteroid Have To Be To Destroy All Life? | Inside Science. (n.d.). https://www.insidescience.org/video/how-big-does-asteroid-have-be-destroy-all-life. \n",
    "* https://www.aanda.org/articles/aa/full_html/2020/01/aa36502-19/aa36502-19.html\n",
    "* Longitude of the Ascending Node. Longitude of the Ascending Node - an overview | ScienceDirect Topics. (n.d.). https://www.sciencedirect.com/topics/physics-and-astronomy/longitude-of-the-ascending-node. \n",
    "* Mi FunkMi Funk                    31511 gold badge33 silver badges88 bronze badges, RomainRomain                    13.1k55 gold badges4242 silver badges4949 bronze badges, E.ZolduoarratiE.Zolduoarrati                    62766 silver badges66 bronze badges, mgoldwassermgoldwasser                    11.3k1111 gold badges6363 silver badges9494 bronze badges, &amp; Rishabh SrivastavaRishabh Srivastava                    73744 silver badges1111 bronze badges. (1964, November 1). Remove Outliers in Pandas DataFrame using Percentiles. Stack Overflow. https://stackoverflow.com/questions/35827863/remove-outliers-in-pandas-dataframe-using-percentiles. \n",
    "* NASA. (n.d.). Asteroid Watch. NASA. https://www.jpl.nasa.gov/asteroid-watch. \n",
    "* NASA. (n.d.). NEO Basics. NASA. https://cneos.jpl.nasa.gov/about/basics.html. \n",
    "* Old Farmer's Almanac. (n.d.). What Are Perihelion and Aphelion? Old Farmer's Almanac. https://www.almanac.com/content/what-aphelion-and-perihelion. \n",
    "* Orbital Inclination: COSMOS. Orbital Inclination | COSMOS. (n.d.). https://astronomy.swin.edu.au/cosmos/O/orbital+inclination. \n",
    "* Perlongo, K. (2021, April 23). Saving Earth from Asteroids. NASA. https://www.nasa.gov/feature/saving-earth-from-asteroids. \n",
    "* Ronaghan, S. (2019, August 1). Deep Learning: Which Loss and Activation Functions should I use? Medium. https://towardsdatascience.com/deep-learning-which-loss-and-activation-functions-should-i-use-ac02f1c56aa8. \n",
    "* Semi-major Axis: COSMOS. Semi-major Axis | COSMOS. (n.d.). https://astronomy.swin.edu.au/cosmos/s/Semi-major+Axis. \n",
    "* Serra, B. R., dice:, J. F., septiembre, R. dice:\t\t\t\t\t\t\t\t\t11, dice:, R., dice:, G., junio, R. dice:\t\t\t\t\t\t\t\t\t1, dice:, K. A. E. E. L. E. R. S. A. I. D. F. R. E. T. E. L. H. U. A. M. A. N., mayo, R. dice:\t\t\t\t\t\t\t\t\t25, dice:, J. A., abril, R. dice:\t\t\t\t\t\t\t\t\t21, dice:, J. L. M., noviembre, R. dice:\t\t\t\t\t\t\t\t\t27, dice:, C. E. S. A. R., febrero, R. dice:\t\t\t\t\t\t\t\t\t22, Dice:, L., enero, R. dice:\t\t\t\t\t\t\t\t\t5, dice:, N. R., Dice:, J. O., Dice:, T., &amp; *, N. (2020, October 26). Rango intercuartílico. Universo Formulas. https://www.universoformulas.com/estadistica/descriptiva/rango-intercuartilico/. \n",
    "* Sharma, S. (2019, February 14). Activation Functions in Neural Networks. Medium. https://towardsdatascience.com/activation-functions-neural-networks-1cbd9f8d91d6. \n",
    "* What is a parsec? EarthSky. (n.d.). https://earthsky.org/space/what-is-a-parsec. \n",
    "* Wikimedia Foundation. (2021, April 12). Asteroid spectral types. Wikipedia. https://en.wikipedia.org/wiki/Asteroid_spectral_types. \n",
    "* Wikimedia Foundation. (2021, April 30). Uncertainty parameter. Wikipedia. https://en.wikipedia.org/wiki/Uncertainty_parameter. \n",
    "* Wikimedia Foundation. (2021, January 10). Color index. Wikipedia. https://en.wikipedia.org/wiki/Color_index. \n",
    "* ZelelBZelelB                    78711 gold badge66 silver badges1212 bronze badges, TasosTasos                    3, matzematze                    30111 silver badge33 bronze badges, Ashok Kumar JayaramanAshok Kumar Jayaraman                    15311 silver badge99 bronze badges, Justin LangeJustin Lange                    12133 bronze badges, &amp; Viacheslav KomisarenkoViacheslav Komisarenko                    35211 silver badge44 bronze badges. (1967, October 1). How to get accuracy, F1, precision and recall, for a keras model? Data Science Stack Exchange. https://datascience.stackexchange.com/questions/45165/how-to-get-accuracy-f1-precision-and-recall-for-a-keras-model. "
   ]
  }
 ],
 "metadata": {
  "kernelspec": {
   "display_name": "elements_venv",
   "language": "python",
   "name": "elements_venv"
  },
  "language_info": {
   "codemirror_mode": {
    "name": "ipython",
    "version": 3
   },
   "file_extension": ".py",
   "mimetype": "text/x-python",
   "name": "python",
   "nbconvert_exporter": "python",
   "pygments_lexer": "ipython3",
   "version": "3.8.6"
  }
 },
 "nbformat": 4,
 "nbformat_minor": 4
}
