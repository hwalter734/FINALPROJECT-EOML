{
 "cells": [
  {
   "cell_type": "markdown",
   "metadata": {},
   "source": [
    "# Cargamos las librerías iniciales"
   ]
  },
  {
   "cell_type": "code",
   "execution_count": 1,
   "metadata": {},
   "outputs": [],
   "source": [
    "import pandas as pd\n",
    "import matplotlib.pyplot as plt \n",
    "import seaborn as sns\n",
    "import numpy as np\n",
    "\n",
    "%matplotlib inline"
   ]
  },
  {
   "cell_type": "markdown",
   "metadata": {},
   "source": [
    "# Descripción de Columnas\n",
    "Las columnas del dataset describen aspectos físicos del asteroide como también de su orbita con respecto a la Tierra. Todas las características de órbita son con respecto a la Tierra.\n",
    "\n",
    "Semi-Major Axis (a): Se refiere a la mitad del diametro más largo de la elipse\n",
    "Eccentricity (e): Se refiere a la cantidad en la que la orbita del asteroide se desvía de la forma de un círculo\n",
    "Inclination with respect to x-y ecliptic plane (deg):\n",
    "Longitude of the Ascending Node (om): \"The point where the orbit passes through the reference plane in an “upward” direction is called the ascending node. Thus, the second orientation angle of the orbit is the angle between the ascending node and some reference direction in the reference plane, as seen from the Sun. In our solar system, the reference direction is usually taken to be the direction toward the vernal equinox. This angle is known as the longitude of the ascending node, Ω.\" Tomado de: https://www.sciencedirect.com/topics/physics-and-astronomy/longitude-of-the-ascending-node\n",
    "Argument of Perihelion (w): Es la distancia angular del ascending node hasta la el perhilion medido en el plano orbital.\n",
    "Periphelion Distance (q): Es la distancia de la orbita del asteroide en la cual se encuentra lo más cercano al sol.\n",
    "Aphelion Distance (ad): Es la distancia de la orbita del asteroide en la cual se encuentra lo más alejada del sol.\n",
    "Orbital Period in Years (per_y): Se refiere al tiempo en que se tarda el asteroide en completar su orbita alrededor de la Tierra en años.\n",
    "Data Arc-Span (data_arc):\n",
    "Orbit Condition Code (condition_code):\n",
    "Number of observation used (n_obs_used):\n",
    "Absolute Magnitude Parameter (H):\n",
    "Near Earth Object (neo):\n",
    "Physically Hazardous Asteroid (pha) VARIABLE OBJETIVO:\n",
    "Diameter of Asteroid in km (diameter):\n",
    "Object bi/tri axial ellipsoid dimensions km (extent):\n",
    "Geometric Albedo (albedo):\n",
    "Rotation Period (rot_per):\n",
    "Standard Gravitational Parameter (GM): Product of mass and gravitational constant\n",
    "Color Index B-V magnitude difference (BV): Se refiere a una escala de medición de temperatura del cuerpo celestial. Números más pequeños indican que es caliente, mientras que números más grandes indican que es más caliente.\n",
    "Color Index U-B magnitude difference (UB): Se refiere a una escala de medición de temperatura del cuerpo celestial. Números más pequeños indican que es caliente, mientras que números más grandes indican que es más caliente.\n",
    "Color Index I-R magnitude difference (IR): Se refiere a una escala de medición de temperatura del cuerpo celestial. Números más pequeños indican que es caliente, mientras que números más grandes indican que es más caliente.\n",
    "Spectral Taxonomic type SMASSII (spec_B):\n",
    "Spectral Taxonomic type Tholen (spec_T):\n",
    "Magnitude Slope Parameter (G):\n",
    "Earth Minimum Orbit Intersection Distance au (moid):\n",
    "Asteroid Orbit Class (class):\n",
    "Mean motion deg/d (n):\n",
    "Orbital Period d (per): Días que se tarda el asteroide en completar su orbita alrededor de la Tierra\n",
    "Mean Anomaly deg (ma):"
   ]
  },
  {
   "cell_type": "code",
   "execution_count": 8,
   "metadata": {},
   "outputs": [
    {
     "data": {
      "text/html": [
       "<div>\n",
       "<style scoped>\n",
       "    .dataframe tbody tr th:only-of-type {\n",
       "        vertical-align: middle;\n",
       "    }\n",
       "\n",
       "    .dataframe tbody tr th {\n",
       "        vertical-align: top;\n",
       "    }\n",
       "\n",
       "    .dataframe thead th {\n",
       "        text-align: right;\n",
       "    }\n",
       "</style>\n",
       "<table border=\"1\" class=\"dataframe\">\n",
       "  <thead>\n",
       "    <tr style=\"text-align: right;\">\n",
       "      <th></th>\n",
       "      <th>a</th>\n",
       "      <th>e</th>\n",
       "      <th>i</th>\n",
       "      <th>om</th>\n",
       "      <th>w</th>\n",
       "      <th>q</th>\n",
       "      <th>ad</th>\n",
       "      <th>per_y</th>\n",
       "      <th>data_arc</th>\n",
       "      <th>condition_code</th>\n",
       "      <th>...</th>\n",
       "      <th>UB</th>\n",
       "      <th>IR</th>\n",
       "      <th>spec_B</th>\n",
       "      <th>spec_T</th>\n",
       "      <th>G</th>\n",
       "      <th>moid</th>\n",
       "      <th>class</th>\n",
       "      <th>n</th>\n",
       "      <th>per</th>\n",
       "      <th>ma</th>\n",
       "    </tr>\n",
       "  </thead>\n",
       "  <tbody>\n",
       "    <tr>\n",
       "      <th>0</th>\n",
       "      <td>2.769165</td>\n",
       "      <td>0.076009</td>\n",
       "      <td>10.594067</td>\n",
       "      <td>80.305532</td>\n",
       "      <td>73.597694</td>\n",
       "      <td>2.558684</td>\n",
       "      <td>2.979647</td>\n",
       "      <td>4.608202</td>\n",
       "      <td>8822.0</td>\n",
       "      <td>0</td>\n",
       "      <td>...</td>\n",
       "      <td>0.426</td>\n",
       "      <td>NaN</td>\n",
       "      <td>C</td>\n",
       "      <td>G</td>\n",
       "      <td>0.12</td>\n",
       "      <td>1.59478</td>\n",
       "      <td>MBA</td>\n",
       "      <td>0.213885</td>\n",
       "      <td>1683.145708</td>\n",
       "      <td>77.372096</td>\n",
       "    </tr>\n",
       "    <tr>\n",
       "      <th>1</th>\n",
       "      <td>2.772466</td>\n",
       "      <td>0.230337</td>\n",
       "      <td>34.836234</td>\n",
       "      <td>173.080063</td>\n",
       "      <td>310.048857</td>\n",
       "      <td>2.133865</td>\n",
       "      <td>3.411067</td>\n",
       "      <td>4.616444</td>\n",
       "      <td>72318.0</td>\n",
       "      <td>0</td>\n",
       "      <td>...</td>\n",
       "      <td>0.284</td>\n",
       "      <td>NaN</td>\n",
       "      <td>B</td>\n",
       "      <td>B</td>\n",
       "      <td>0.11</td>\n",
       "      <td>1.23324</td>\n",
       "      <td>MBA</td>\n",
       "      <td>0.213503</td>\n",
       "      <td>1686.155999</td>\n",
       "      <td>59.699133</td>\n",
       "    </tr>\n",
       "    <tr>\n",
       "      <th>2</th>\n",
       "      <td>2.669150</td>\n",
       "      <td>0.256942</td>\n",
       "      <td>12.988919</td>\n",
       "      <td>169.852760</td>\n",
       "      <td>248.138626</td>\n",
       "      <td>1.983332</td>\n",
       "      <td>3.354967</td>\n",
       "      <td>4.360814</td>\n",
       "      <td>72684.0</td>\n",
       "      <td>0</td>\n",
       "      <td>...</td>\n",
       "      <td>0.433</td>\n",
       "      <td>NaN</td>\n",
       "      <td>Sk</td>\n",
       "      <td>S</td>\n",
       "      <td>0.32</td>\n",
       "      <td>1.03454</td>\n",
       "      <td>MBA</td>\n",
       "      <td>0.226019</td>\n",
       "      <td>1592.787285</td>\n",
       "      <td>34.925016</td>\n",
       "    </tr>\n",
       "    <tr>\n",
       "      <th>3</th>\n",
       "      <td>2.361418</td>\n",
       "      <td>0.088721</td>\n",
       "      <td>7.141771</td>\n",
       "      <td>103.810804</td>\n",
       "      <td>150.728541</td>\n",
       "      <td>2.151909</td>\n",
       "      <td>2.570926</td>\n",
       "      <td>3.628837</td>\n",
       "      <td>24288.0</td>\n",
       "      <td>0</td>\n",
       "      <td>...</td>\n",
       "      <td>0.492</td>\n",
       "      <td>NaN</td>\n",
       "      <td>V</td>\n",
       "      <td>V</td>\n",
       "      <td>0.32</td>\n",
       "      <td>1.13948</td>\n",
       "      <td>MBA</td>\n",
       "      <td>0.271609</td>\n",
       "      <td>1325.432765</td>\n",
       "      <td>95.861936</td>\n",
       "    </tr>\n",
       "    <tr>\n",
       "      <th>4</th>\n",
       "      <td>2.574249</td>\n",
       "      <td>0.191095</td>\n",
       "      <td>5.366988</td>\n",
       "      <td>141.576605</td>\n",
       "      <td>358.687607</td>\n",
       "      <td>2.082324</td>\n",
       "      <td>3.066174</td>\n",
       "      <td>4.130323</td>\n",
       "      <td>63507.0</td>\n",
       "      <td>0</td>\n",
       "      <td>...</td>\n",
       "      <td>0.411</td>\n",
       "      <td>NaN</td>\n",
       "      <td>S</td>\n",
       "      <td>S</td>\n",
       "      <td>NaN</td>\n",
       "      <td>1.09589</td>\n",
       "      <td>MBA</td>\n",
       "      <td>0.238632</td>\n",
       "      <td>1508.600458</td>\n",
       "      <td>282.366289</td>\n",
       "    </tr>\n",
       "  </tbody>\n",
       "</table>\n",
       "<p>5 rows × 30 columns</p>\n",
       "</div>"
      ],
      "text/plain": [
       "          a         e          i          om           w         q        ad  \\\n",
       "0  2.769165  0.076009  10.594067   80.305532   73.597694  2.558684  2.979647   \n",
       "1  2.772466  0.230337  34.836234  173.080063  310.048857  2.133865  3.411067   \n",
       "2  2.669150  0.256942  12.988919  169.852760  248.138626  1.983332  3.354967   \n",
       "3  2.361418  0.088721   7.141771  103.810804  150.728541  2.151909  2.570926   \n",
       "4  2.574249  0.191095   5.366988  141.576605  358.687607  2.082324  3.066174   \n",
       "\n",
       "      per_y  data_arc condition_code  ...     UB  IR spec_B spec_T     G  \\\n",
       "0  4.608202    8822.0              0  ...  0.426 NaN      C      G  0.12   \n",
       "1  4.616444   72318.0              0  ...  0.284 NaN      B      B  0.11   \n",
       "2  4.360814   72684.0              0  ...  0.433 NaN     Sk      S  0.32   \n",
       "3  3.628837   24288.0              0  ...  0.492 NaN      V      V  0.32   \n",
       "4  4.130323   63507.0              0  ...  0.411 NaN      S      S   NaN   \n",
       "\n",
       "      moid  class         n          per          ma  \n",
       "0  1.59478    MBA  0.213885  1683.145708   77.372096  \n",
       "1  1.23324    MBA  0.213503  1686.155999   59.699133  \n",
       "2  1.03454    MBA  0.226019  1592.787285   34.925016  \n",
       "3  1.13948    MBA  0.271609  1325.432765   95.861936  \n",
       "4  1.09589    MBA  0.238632  1508.600458  282.366289  \n",
       "\n",
       "[5 rows x 30 columns]"
      ]
     },
     "execution_count": 8,
     "metadata": {},
     "output_type": "execute_result"
    }
   ],
   "source": [
    "df = pd.read_excel('Asteroid_Updated_Clean.xlsb', engine='pyxlsb')\n",
    "df.head()"
   ]
  },
  {
   "cell_type": "code",
   "execution_count": 3,
   "metadata": {},
   "outputs": [
    {
     "data": {
      "text/plain": [
       "(699998, 30)"
      ]
     },
     "execution_count": 3,
     "metadata": {},
     "output_type": "execute_result"
    }
   ],
   "source": [
    "df.shape"
   ]
  },
  {
   "cell_type": "code",
   "execution_count": 5,
   "metadata": {},
   "outputs": [
    {
     "data": {
      "text/plain": [
       "a                  0.000000\n",
       "e                  0.000000\n",
       "i                  0.000000\n",
       "om                 0.000000\n",
       "w                  0.000000\n",
       "q                  0.000000\n",
       "ad                 0.000000\n",
       "per_y              0.000000\n",
       "data_arc           1.203146\n",
       "condition_code     0.017143\n",
       "n_obs_used         0.000000\n",
       "H                  0.382858\n",
       "neo                0.000000\n",
       "pha                1.175575\n",
       "diameter          80.499230\n",
       "extent            99.997429\n",
       "albedo            80.661088\n",
       "rot_per           97.354421\n",
       "GM                99.998000\n",
       "BV                99.854142\n",
       "UB                99.860142\n",
       "IR                99.999857\n",
       "spec_B            99.761999\n",
       "spec_T            99.860000\n",
       "G                 99.983000\n",
       "moid               1.175575\n",
       "class              0.000000\n",
       "n                  0.000000\n",
       "per                0.000000\n",
       "ma                 0.000857\n",
       "dtype: float64"
      ]
     },
     "execution_count": 5,
     "metadata": {},
     "output_type": "execute_result"
    }
   ],
   "source": [
    "df.isnull().mean() * 100"
   ]
  },
  {
   "cell_type": "code",
   "execution_count": 32,
   "metadata": {},
   "outputs": [],
   "source": [
    "df2 = df[df['diameter'].notna()]"
   ]
  },
  {
   "cell_type": "code",
   "execution_count": 34,
   "metadata": {},
   "outputs": [],
   "source": [
    "df3 = df2.loc[:, df2.isin([' ','NULL',0, np.nan]).mean() < .30]"
   ]
  },
  {
   "cell_type": "code",
   "execution_count": 35,
   "metadata": {},
   "outputs": [
    {
     "data": {
      "text/plain": [
       "a                0\n",
       "e                0\n",
       "i                0\n",
       "om               0\n",
       "w                0\n",
       "q                0\n",
       "ad               0\n",
       "per_y            0\n",
       "data_arc       138\n",
       "n_obs_used       0\n",
       "H              747\n",
       "neo              0\n",
       "pha              0\n",
       "diameter         0\n",
       "albedo        1136\n",
       "moid             0\n",
       "class            0\n",
       "n                0\n",
       "per              0\n",
       "ma               0\n",
       "dtype: int64"
      ]
     },
     "execution_count": 35,
     "metadata": {},
     "output_type": "execute_result"
    }
   ],
   "source": [
    "df3.isnull().sum()"
   ]
  },
  {
   "cell_type": "code",
   "execution_count": 36,
   "metadata": {},
   "outputs": [
    {
     "data": {
      "text/plain": [
       "(136505, 20)"
      ]
     },
     "execution_count": 36,
     "metadata": {},
     "output_type": "execute_result"
    }
   ],
   "source": [
    "df3.shape"
   ]
  },
  {
   "cell_type": "code",
   "execution_count": 19,
   "metadata": {},
   "outputs": [
    {
     "data": {
      "text/plain": [
       "0          8822.0\n",
       "1         72318.0\n",
       "2         72684.0\n",
       "3         24288.0\n",
       "4         63507.0\n",
       "           ...   \n",
       "699993        3.0\n",
       "699994        NaN\n",
       "699995        3.0\n",
       "699996        2.0\n",
       "699997        3.0\n",
       "Name: data_arc, Length: 699998, dtype: float64"
      ]
     },
     "execution_count": 19,
     "metadata": {},
     "output_type": "execute_result"
    }
   ],
   "source": [
    "df.hist(figsize=(15,17))"
   ]
  },
  {
   "cell_type": "code",
   "execution_count": 28,
   "metadata": {},
   "outputs": [
    {
     "data": {
      "text/plain": [
       "0           N\n",
       "1           N\n",
       "2           N\n",
       "3           N\n",
       "4           N\n",
       "         ... \n",
       "699993      N\n",
       "699994    NaN\n",
       "699995      N\n",
       "699996      N\n",
       "699997      N\n",
       "Name: pha, Length: 699998, dtype: object"
      ]
     },
     "execution_count": 28,
     "metadata": {},
     "output_type": "execute_result"
    }
   ],
   "source": [
    "df2['pha']"
   ]
  },
  {
   "cell_type": "code",
   "execution_count": 24,
   "metadata": {},
   "outputs": [
    {
     "data": {
      "text/plain": [
       "1.018430    19\n",
       "1.086960    19\n",
       "1.028750    19\n",
       "1.145600    18\n",
       "1.077220    18\n",
       "            ..\n",
       "2.104160     1\n",
       "0.661316     1\n",
       "0.966606     1\n",
       "0.929873     1\n",
       "0.814341     1\n",
       "Name: moid, Length: 260994, dtype: int64"
      ]
     },
     "execution_count": 24,
     "metadata": {},
     "output_type": "execute_result"
    }
   ],
   "source": [
    "df2['moid'].value_counts()"
   ]
  },
  {
   "cell_type": "code",
   "execution_count": null,
   "metadata": {},
   "outputs": [],
   "source": []
  },
  {
   "cell_type": "code",
   "execution_count": null,
   "metadata": {},
   "outputs": [],
   "source": []
  },
  {
   "cell_type": "code",
   "execution_count": null,
   "metadata": {},
   "outputs": [],
   "source": []
  },
  {
   "cell_type": "code",
   "execution_count": null,
   "metadata": {},
   "outputs": [],
   "source": []
  },
  {
   "cell_type": "code",
   "execution_count": null,
   "metadata": {},
   "outputs": [],
   "source": []
  },
  {
   "cell_type": "code",
   "execution_count": null,
   "metadata": {},
   "outputs": [],
   "source": []
  },
  {
   "cell_type": "code",
   "execution_count": null,
   "metadata": {},
   "outputs": [],
   "source": []
  },
  {
   "cell_type": "code",
   "execution_count": null,
   "metadata": {},
   "outputs": [],
   "source": []
  },
  {
   "cell_type": "code",
   "execution_count": null,
   "metadata": {},
   "outputs": [],
   "source": []
  },
  {
   "cell_type": "code",
   "execution_count": null,
   "metadata": {},
   "outputs": [],
   "source": []
  }
 ],
 "metadata": {
  "kernelspec": {
   "display_name": "elements_venv",
   "language": "python",
   "name": "elements_venv"
  },
  "language_info": {
   "codemirror_mode": {
    "name": "ipython",
    "version": 3
   },
   "file_extension": ".py",
   "mimetype": "text/x-python",
   "name": "python",
   "nbconvert_exporter": "python",
   "pygments_lexer": "ipython3",
   "version": "3.8.6"
  }
 },
 "nbformat": 4,
 "nbformat_minor": 4
}
